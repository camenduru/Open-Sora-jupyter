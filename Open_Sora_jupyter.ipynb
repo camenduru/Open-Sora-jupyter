{
  "cells": [
    {
      "cell_type": "markdown",
      "metadata": {
        "id": "view-in-github"
      },
      "source": [
        "[![Open In Colab](https://colab.research.google.com/assets/colab-badge.svg)](https://colab.research.google.com/github/camenduru/Open-Sora-jupyter/blob/main/Open_Sora_jupyter.ipynb)"
      ]
    },
    {
      "cell_type": "code",
      "execution_count": null,
      "metadata": {
        "id": "VjYy0F2gZIPR"
      },
      "outputs": [],
      "source": [
        "!pip install ninja colossalai mmengine\n",
        "!pip install https://download.pytorch.org/whl/cu121/torch-2.2.1%2Bcu121-cp310-cp310-linux_x86_64.whl\n",
        "!pip install https://download.pytorch.org/whl/cu121/xformers-0.0.25-cp310-cp310-manylinux2014_x86_64.whl\n",
        "\n",
        "%cd /content\n",
        "!git clone -b 23.05-devel https://github.com/NVIDIA/apex\n",
        "%cd /content/apex\n",
        "!pip install -v --disable-pip-version-check --no-cache-dir --global-option=\"--cpp_ext\" --global-option=\"--cuda_ext\" ./\n",
        "\n",
        "%cd /content\n",
        "!git clone https://github.com/Dao-AILab/flash-attention\n",
        "%cd /content/flash-attention\n",
        "!pip install -v -e .\n",
        "\n",
        "%cd /content\n",
        "!git clone -b dev https://github.com/camenduru/Open-Sora\n",
        "%cd /content/Open-Sora\n",
        "!pip install -v -e .\n",
        "\n",
        "!apt -y install -qq aria2\n",
        "!aria2c --console-log-level=error -c -x 16 -s 16 -k 1M https://huggingface.co/hpcai-tech/Open-Sora/resolve/main/OpenSora-v1-16x256x256.pth -d /content/Open-Sora/models -o OpenSora-v1-16x256x256.pth\n",
        "!aria2c --console-log-level=error -c -x 16 -s 16 -k 1M https://huggingface.co/hpcai-tech/Open-Sora/resolve/main/OpenSora-v1-HQ-16x256x256.pth -d /content/Open-Sora/models -o OpenSora-v1-HQ-16x256x256.pth\n",
        "!aria2c --console-log-level=error -c -x 16 -s 16 -k 1M https://huggingface.co/hpcai-tech/Open-Sora/resolve/main/OpenSora-v1-HQ-16x512x512.pth -d /content/Open-Sora/models -o OpenSora-v1-HQ-16x512x512.pth\n",
        "\n",
        "!git clone https://huggingface.co/DeepFloyd/t5-v1_1-xxl /content/Open-Sora/pretrained_models/t5_ckpts/t5-v1_1-xxl"
      ]
    },
    {
      "cell_type": "code",
      "execution_count": null,
      "metadata": {},
      "outputs": [],
      "source": [
        "%cd /content/Open-Sora\n",
        "# Sample 16x256x256 (5s/sample)\n",
        "!torchrun --standalone --nproc_per_node 1 scripts/inference.py configs/opensora/inference/16x256x256.py --ckpt-path /content/Open-Sora/models/OpenSora-v1-16x256x256.pth"
      ]
    },
    {
      "cell_type": "code",
      "execution_count": null,
      "metadata": {},
      "outputs": [],
      "source": [
        "%cd /content/Open-Sora\n",
        "# Sample 16x512x512 (20s/sample, 100 time steps)\n",
        "!torchrun --standalone --nproc_per_node 1 scripts/inference.py configs/opensora/inference/16x512x512.py --ckpt-path /content/Open-Sora/models/OpenSora-v1-HQ-16x512x512.pth"
      ]
    },
    {
      "cell_type": "code",
      "execution_count": null,
      "metadata": {},
      "outputs": [],
      "source": [
        "%cd /content/Open-Sora\n",
        "# Sample 64x512x512 (40s/sample, 100 time steps)\n",
        "!torchrun --standalone --nproc_per_node 1 scripts/inference.py configs/opensora/inference/64x512x512.py --ckpt-path /content/Open-Sora/models/OpenSora-v1-HQ-16x512x512.pth"
      ]
    },
    {
      "cell_type": "code",
      "execution_count": null,
      "metadata": {},
      "outputs": [],
      "source": [
        "%cd /content/Open-Sora\n",
        "# Sample 64x512x512 with sequence parallelism (30s/sample, 100 time steps)\n",
        "# sequence parallelism is enabled automatically when nproc_per_node is larger than 1\n",
        "!torchrun --standalone --nproc_per_node 2 scripts/inference.py configs/opensora/inference/64x512x512.py --ckpt-path /content/Open-Sora/models/OpenSora-v1-HQ-16x512x512.pth"
      ]
    }
  ],
  "metadata": {
    "accelerator": "GPU",
    "colab": {
      "gpuType": "T4",
      "provenance": []
    },
    "kernelspec": {
      "display_name": "Python 3",
      "name": "python3"
    },
    "language_info": {
      "name": "python"
    }
  },
  "nbformat": 4,
  "nbformat_minor": 0
}
